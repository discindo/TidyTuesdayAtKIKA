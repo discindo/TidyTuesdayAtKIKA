{
 "cells": [
  {
   "cell_type": "markdown",
   "metadata": {},
   "source": [
    "---\n",
    "title: \"TidyTuesday Week 38 in Python\"\n",
    "output: html_notebook\n",
    "---"
   ]
  },
  {
   "cell_type": "code",
   "execution_count": null,
   "metadata": {},
   "outputs": [],
   "source": [
    "%%R\n",
    "library(reticulate)"
   ]
  },
  {
   "cell_type": "code",
   "execution_count": null,
   "metadata": {},
   "outputs": [],
   "source": [
    "import pandas as pd\n",
    "import numpy as np\n",
    "import matplotlib.pyplot as plt\n",
    "from matplotlib.ticker import FuncFormatter\n",
    "import seaborn as sns"
   ]
  },
  {
   "cell_type": "code",
   "execution_count": null,
   "metadata": {},
   "outputs": [],
   "source": [
    "park_visits_py = pd.read_csv(\"https://raw.githubusercontent.com/rfordatascience/tidytuesday/master/data/2019/2019-09-17/national_parks.csv\")"
   ]
  },
  {
   "cell_type": "code",
   "execution_count": null,
   "metadata": {},
   "outputs": [],
   "source": [
    "park_visits_py.head()\n",
    "\n",
    "park_visits_py.dtypes\n",
    "\n",
    "# Note: Automatic exclusion of “nuisance” columns happens when 'groupby'.\n",
    "# In this case “nuisance” columns are those that are not 'sum'-ed.\n",
    "pv_grouped = park_visits_py[park_visits_py['unit_type'] == 'National Park']\n",
    "pv_grouped = pv_grouped[pv_grouped['year'] != 'Total']\n",
    "pv_grouped = pv_grouped.groupby('year')['visitors'].sum().reset_index()\n",
    "pv_grouped['year'] = pd.to_numeric(pv_grouped['year'])\n",
    "\n",
    "pv_grouped\n",
    "\n",
    "pv_grouped.dtypes"
   ]
  },
  {
   "cell_type": "code",
   "execution_count": null,
   "metadata": {},
   "outputs": [],
   "source": [
    "#Matplotlib pandas plotting\n",
    "plt.style.use('fivethirtyeight')\n",
    "pv_grouped.plot(x='year', y='visitors', kind='area', color = 'darkgreen', alpha=0.3)"
   ]
  },
  {
   "cell_type": "code",
   "execution_count": null,
   "metadata": {},
   "outputs": [],
   "source": [
    "#Matplotlib obejt-oriented, because: https://pbpython.com/effective-matplotlib.html\n",
    "\n",
    "#Function for number format on axis\n",
    "def numbers(x, pos):\n",
    "    'The two args are the value and tick position'\n",
    "    if x >= 1000000:\n",
    "        return '{:1.0f}M'.format(x*1e-6)\n",
    "    return '{:1.0f}K'.format(x*1e-3)\n",
    "\n",
    "\n",
    "plt.style.use('fivethirtyeight')\n",
    "\n",
    "fig, ax = plt.subplots()\n",
    "pv_grouped.plot(x='year', y='visitors', kind='area', color = 'darkgreen', alpha=0.3, ax=ax)\n",
    "ax.set_xlabel('')\n",
    "ax.set_ylabel('')\n",
    "ax.set_title('U.S. national parks have never been so popular')\n",
    "formatter = FuncFormatter(numbers)\n",
    "ax.yaxis.set_major_formatter(formatter)\n",
    "ax.legend().set_visible(False)\n",
    "\n",
    "plt.show()"
   ]
  },
  {
   "cell_type": "code",
   "execution_count": null,
   "metadata": {},
   "outputs": [],
   "source": [
    "#Seaborn plot\n",
    "sns.set()\n",
    "sns.relplot(data=pv_grouped, x='year', y='visitors', kind='line')\n",
    "#this, at least in Rstudio, needs a 'plt.show()'\n",
    "plt.show()"
   ]
  }
 ],
 "metadata": {},
 "nbformat": 4,
 "nbformat_minor": 2
}
